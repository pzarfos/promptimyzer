{
 "cells": [
  {
   "attachments": {},
   "cell_type": "markdown",
   "metadata": {},
   "source": [
    "# LangChain Quickstart"
   ]
  },
  {
   "cell_type": "code",
   "execution_count": 1,
   "metadata": {},
   "outputs": [],
   "source": [
    "import openai\n",
    "import os\n",
    "\n",
    "os.environ[\"OPENAI_API_KEY\"] = \"[YOUR_KEY_HERE]\"\n",
    "os.environ[\"SERPAPI_API_KEY\"] = \"[YOUR_KEY_HERE]\"\n",
    "\n",
    "openai.api_key = \"[YOUR_KEY_HERE]\""
   ]
  },
  {
   "cell_type": "code",
   "execution_count": 2,
   "metadata": {},
   "outputs": [
    {
     "name": "stdout",
     "output_type": "stream",
     "text": [
      "ClearML Task: created new task id=2330d905c2004835bcb63ec92da405b2\n",
      "2023-04-12 11:05:30,197 - clearml.Task - INFO - Storing jupyter notebook directly as code\n",
      "2023-04-12 11:05:30,201 - clearml.Repository Detection - WARNING - Can't get url information for git repo in /home/victor/Projects/langchain\n",
      "ClearML results page: https://app.clear.ml/projects/5e04ba0139f044d280552b0e06ad3681/experiments/2330d905c2004835bcb63ec92da405b2/output/log\n",
      "ClearML Monitor: GPU monitoring failed getting GPU reading, switching off GPU monitoring\n",
      "The clearml callback is currently in beta and is subject to change based on updates to `langchain`. Please report any issues to https://github.com/allegroai/clearml/issues with the tag `langchain`.\n"
     ]
    },
    {
     "name": "stdout",
     "output_type": "stream",
     "text": [
      "ClearML Monitor: Could not detect iteration reporting, falling back to iterations as seconds-from-start\n"
     ]
    },
    {
     "name": "stderr",
     "output_type": "stream",
     "text": [
      "Retrying (Retry(total=237, connect=237, read=240, redirect=240, status=240)) after connection broken by 'NewConnectionError('<urllib3.connection.HTTPSConnection object at 0x7f284aa426b0>: Failed to establish a new connection: [Errno -3] Temporary failure in name resolution')': /v2.23/events.add_batch\n",
      "Retrying (Retry(total=236, connect=236, read=240, redirect=240, status=240)) after connection broken by 'NewConnectionError('<urllib3.connection.HTTPSConnection object at 0x7f284aa41c30>: Failed to establish a new connection: [Errno -3] Temporary failure in name resolution')': /v2.23/events.add_batch\n"
     ]
    }
   ],
   "source": [
    "from langchain.callbacks import ClearMLCallbackHandler\n",
    "from langchain.callbacks.base import CallbackManager\n",
    "\n",
    "from clearml import Task\n",
    "\n",
    "\n",
    "# Set up a new ClearML Task\n",
    "task = Task.init(\n",
    "    project_name=\"Promptimizer\",\n",
    "    task_name=\"Quickstart\",\n",
    "    output_uri=True\n",
    ")\n",
    "\n",
    "\n",
    "# Set up the ClearML handler\n",
    "clearml_callback = ClearMLCallbackHandler(\n",
    "    task_type=\"inference\",\n",
    "    project_name=\"langchain_callback_demo\",\n",
    "    task_name=\"llm\",\n",
    "    tags=[\"test\"],\n",
    "    # Change the following parameters based on the amount of detail you want tracked\n",
    "    visualize=True,\n",
    "    complexity_metrics=False,\n",
    "    stream_logs=False\n",
    ")\n",
    "# manager = CallbackManager([StdOutCallbackHandler(), clearml_callback])\n",
    "manager = CallbackManager([clearml_callback])"
   ]
  },
  {
   "attachments": {},
   "cell_type": "markdown",
   "metadata": {},
   "source": [
    "## Simple LLM inference"
   ]
  },
  {
   "cell_type": "code",
   "execution_count": 3,
   "metadata": {},
   "outputs": [
    {
     "name": "stdout",
     "output_type": "stream",
     "text": [
      "\n",
      "\n",
      "Colorful Comfort Socks.\n",
      "2023-04-12 11:07:18,995 - clearml.Task - INFO - Completed model upload to https://files.clear.ml/Promptimizer/Quickstart.2330d905c2004835bcb63ec92da405b2/models/sock_company\n"
     ]
    }
   ],
   "source": [
    "from langchain.llms import OpenAI\n",
    "\n",
    "llm = OpenAI(temperature=0.9, callback_manager=manager, verbose=True)\n",
    "text = \"What would be a good company name for a company that makes colorful socks?\"\n",
    "print(llm(text))\n",
    "clearml_callback.flush_tracker(langchain_asset=llm, name=\"sock_company\")"
   ]
  },
  {
   "cell_type": "code",
   "execution_count": 4,
   "metadata": {},
   "outputs": [
    {
     "name": "stdout",
     "output_type": "stream",
     "text": [
      "\n",
      "\n",
      "To get started with ClearML, you can sign up for a free trial or purchase a subscription. Once you have an account, you can start using the ClearML platform to manage your machine learning experiments, track metrics, and deploy models. You can also use the ClearML Python SDK to integrate ClearML into your existing ML workflow.\n",
      "2023-04-12 11:08:09,983 - clearml.Task - INFO - Completed model upload to https://files.clear.ml/Promptimizer/Quickstart.2330d905c2004835bcb63ec92da405b2/models/clearml_getting_started\n"
     ]
    }
   ],
   "source": [
    "llm = OpenAI(temperature=0.1, callback_manager=manager, verbose=True)\n",
    "text = \"How do I get started with ClearML?\"\n",
    "print(llm(text))\n",
    "clearml_callback.flush_tracker(langchain_asset=llm, name=\"clearml_getting_started\")"
   ]
  },
  {
   "attachments": {},
   "cell_type": "markdown",
   "metadata": {},
   "source": [
    "## Prompt customization"
   ]
  },
  {
   "cell_type": "code",
   "execution_count": 5,
   "metadata": {},
   "outputs": [],
   "source": [
    "from langchain.prompts import PromptTemplate\n",
    "\n",
    "prompt = PromptTemplate(\n",
    "    input_variables=[\"product\"],\n",
    "    template=\"What is a good name for a company that makes {product}?\",\n",
    ")"
   ]
  },
  {
   "cell_type": "code",
   "execution_count": 7,
   "metadata": {},
   "outputs": [
    {
     "name": "stdout",
     "output_type": "stream",
     "text": [
      "What is a good name for a company that makes clearml?\n"
     ]
    }
   ],
   "source": [
    "print(prompt.format(product=\"colorful socks\"))"
   ]
  },
  {
   "attachments": {},
   "cell_type": "markdown",
   "metadata": {},
   "source": [
    "## Chaining"
   ]
  },
  {
   "cell_type": "code",
   "execution_count": 8,
   "metadata": {},
   "outputs": [],
   "source": [
    "from langchain.prompts import PromptTemplate\n",
    "from langchain.llms import OpenAI\n",
    "\n",
    "llm = OpenAI(temperature=0.6, callback_manager=manager, verbose=True)\n",
    "prompt = PromptTemplate(\n",
    "    input_variables=[\"product\"],\n",
    "    template=\"What is a good name for a company that makes {product}?\\n\\n\",\n",
    ")"
   ]
  },
  {
   "cell_type": "code",
   "execution_count": 9,
   "metadata": {},
   "outputs": [],
   "source": [
    "from langchain.chains import LLMChain\n",
    "chain = LLMChain(llm=llm, prompt=prompt)"
   ]
  },
  {
   "cell_type": "code",
   "execution_count": 10,
   "metadata": {},
   "outputs": [
    {
     "name": "stdout",
     "output_type": "stream",
     "text": [
      "\n",
      "EcoSmart Phones\n",
      "2023-04-12 11:11:56,314 - clearml.Task - INFO - Completed model upload to https://files.clear.ml/Promptimizer/Quickstart.2330d905c2004835bcb63ec92da405b2/models/ethical_chain\n"
     ]
    }
   ],
   "source": [
    "print(chain.run(\"ethically sources smartphones\"))\n",
    "clearml_callback.flush_tracker(langchain_asset=chain, name=\"ethical_chain\")"
   ]
  },
  {
   "attachments": {},
   "cell_type": "markdown",
   "metadata": {},
   "source": [
    "# Premade chains"
   ]
  },
  {
   "cell_type": "code",
   "execution_count": 11,
   "metadata": {},
   "outputs": [
    {
     "name": "stdout",
     "output_type": "stream",
     "text": [
      "\n",
      "\n",
      "\u001b[1m> Entering new LLMMathChain chain...\u001b[0m\n",
      "What is 13 raised to the .3432 power?\u001b[32;1m\u001b[1;3m\n",
      "```python\n",
      "import math\n",
      "print(math.pow(13, 0.3432))\n",
      "```\n",
      "\u001b[0m\n",
      "Answer: \u001b[33;1m\u001b[1;3m2.4116004626599237\n",
      "\u001b[0m\n",
      "\u001b[1m> Finished chain.\u001b[0m\n",
      "2023-04-12 11:13:40,428 - clearml.Task - INFO - Completed model upload to https://files.clear.ml/Promptimizer/Quickstart.2330d905c2004835bcb63ec92da405b2/models/llm_math\n"
     ]
    }
   ],
   "source": [
    "from langchain import OpenAI, LLMMathChain\n",
    "\n",
    "llm = OpenAI(temperature=0, callback_manager=manager, verbose=True)\n",
    "llm_math = LLMMathChain(llm=llm, verbose=True)\n",
    "\n",
    "llm_math.run(\"What is 13 raised to the .3432 power?\")\n",
    "clearml_callback.flush_tracker(langchain_asset=llm_math, name=\"llm_math\")"
   ]
  },
  {
   "attachments": {},
   "cell_type": "markdown",
   "metadata": {},
   "source": [
    "## Creating an \"Agent\""
   ]
  },
  {
   "cell_type": "code",
   "execution_count": 12,
   "metadata": {},
   "outputs": [
    {
     "name": "stdout",
     "output_type": "stream",
     "text": [
      "\n",
      "\n",
      "\u001b[1m> Entering new AgentExecutor chain...\u001b[0m\n"
     ]
    },
    {
     "name": "stderr",
     "output_type": "stream",
     "text": [
      "/home/victor/Projects/langchain/.venv/lib/python3.10/site-packages/spacy/displacy/__init__.py:211: UserWarning: [W006] No entities to visualize found in Doc object. If this is surprising to you, make sure the Doc was processed using a model that supports named entity recognition, and check the `doc.ents` property manually if necessary.\n",
      "  warnings.warn(Warnings.W006)\n"
     ]
    },
    {
     "name": "stdout",
     "output_type": "stream",
     "text": [
      "\u001b[32;1m\u001b[1;3m I need to find a website that offers ClearML.\n",
      "Action: Search\n",
      "Action Input: \"ClearML download\"\u001b[0m\n",
      "Observation: \u001b[36;1m\u001b[1;3mEasily Develop, Orchestrate, and Automate ML workflows at scale. ClearML's open-source MLOps platform is your end-to-end solution. Start free!\u001b[0m\n",
      "Thought:\u001b[32;1m\u001b[1;3m I should visit the website to download ClearML.\n",
      "Action: Search\n",
      "Action Input: \"ClearML website\"\u001b[0m\n",
      "Observation: \u001b[36;1m\u001b[1;3mEasily Develop, Orchestrate, and Automate ML workflows at scale. ClearML's open-source MLOps platform is your end-to-end solution. Start free!\u001b[0m\n",
      "Thought:\u001b[32;1m\u001b[1;3m I should visit the website to download ClearML.\n",
      "Action: Search\n",
      "Action Input: \"ClearML download page\"\u001b[0m\n",
      "Observation: \u001b[36;1m\u001b[1;3mReturn a base folder with a read-only (immutable) local copy of the entire dataset download and copy / soft-link, files from all the parent dataset versions ...\u001b[0m\n",
      "Thought:\u001b[32;1m\u001b[1;3m I should visit the website to download ClearML.\n",
      "Action: Search\n",
      "Action Input: \"ClearML download link\"\u001b[0m\n",
      "Observation: \u001b[36;1m\u001b[1;3mExternal file links can be from cloud storage (s3://, gs://, azure://), ... download and copy / soft-link, files from all the parent dataset versions.\u001b[0m\n",
      "Thought:\u001b[32;1m\u001b[1;3m I now know the download link for ClearML.\n",
      "Final Answer: The download link for ClearML is available on the ClearML website.\u001b[0m\n",
      "\n",
      "\u001b[1m> Finished chain.\u001b[0m\n",
      "2023-04-12 11:15:51,791 - clearml.Task - INFO - Completed model upload to https://files.clear.ml/Promptimizer/Quickstart.2330d905c2004835bcb63ec92da405b2/models/google%20agent\n"
     ]
    },
    {
     "name": "stderr",
     "output_type": "stream",
     "text": [
      "Retrying (Retry(total=237, connect=237, read=240, redirect=240, status=240)) after connection broken by 'NewConnectionError('<urllib3.connection.HTTPSConnection object at 0x7f2808597430>: Failed to establish a new connection: [Errno -3] Temporary failure in name resolution')': /v2.23/tasks.get_all\n",
      "Retrying (Retry(total=237, connect=237, read=240, redirect=240, status=240)) after connection broken by 'NewConnectionError('<urllib3.connection.HTTPSConnection object at 0x7f2808595c60>: Failed to establish a new connection: [Errno -3] Temporary failure in name resolution')': /v2.23/tasks.get_all\n",
      "Retrying (Retry(total=236, connect=236, read=240, redirect=240, status=240)) after connection broken by 'NewConnectionError('<urllib3.connection.HTTPSConnection object at 0x7f28085977f0>: Failed to establish a new connection: [Errno -3] Temporary failure in name resolution')': /v2.23/tasks.get_all\n"
     ]
    },
    {
     "name": "stdout",
     "output_type": "stream",
     "text": [
      "2023-04-13 07:59:56,239 - clearml.Task - WARNING - ### TASK STOPPED - USER ABORTED - STATUS CHANGED ###\n"
     ]
    },
    {
     "ename": "",
     "evalue": "",
     "output_type": "error",
     "traceback": [
      "\u001b[1;31mThe Kernel crashed while executing code in the the current cell or a previous cell. Please review the code in the cell(s) to identify a possible cause of the failure. Click <a href='https://aka.ms/vscodeJupyterKernelCrash'>here</a> for more info. View Jupyter <a href='command:jupyter.viewOutput'>log</a> for further details."
     ]
    }
   ],
   "source": [
    "from langchain.agents import load_tools\n",
    "from langchain.agents import initialize_agent\n",
    "from langchain.llms import OpenAI\n",
    "\n",
    "llm = OpenAI(temperature=0, callback_manager=manager, verbose=True)\n",
    "tools = load_tools([\"serpapi\", \"llm-math\"], llm=llm)\n",
    "agent = initialize_agent(tools, llm, agent=\"zero-shot-react-description\", verbose=True)\n",
    "agent.run(\"Where can I find and download ClearML?\")\n",
    "clearml_callback.flush_tracker(langchain_asset=agent, name=\"google agent\")\n"
   ]
  },
  {
   "cell_type": "code",
   "execution_count": null,
   "metadata": {},
   "outputs": [],
   "source": []
  }
 ],
 "metadata": {
  "kernelspec": {
   "display_name": ".venv",
   "language": "python",
   "name": "python3"
  },
  "language_info": {
   "codemirror_mode": {
    "name": "ipython",
    "version": 3
   },
   "file_extension": ".py",
   "mimetype": "text/x-python",
   "name": "python",
   "nbconvert_exporter": "python",
   "pygments_lexer": "ipython3",
   "version": "3.10.10"
  },
  "orig_nbformat": 4,
  "vscode": {
   "interpreter": {
    "hash": "0bf04d10df142ed631dc941daed008b722feed4cda395c6e73fb316433bdbe76"
   }
  }
 },
 "nbformat": 4,
 "nbformat_minor": 2
}
